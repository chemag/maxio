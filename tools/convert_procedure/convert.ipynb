{
  "cells": [
    {
      "cell_type": "code",
      "source": [
        "import os\n",
        "import shutil\n",
        "import glob\n",
        "import json\n",
        "import time\n",
        "import sys\n",
        "sys.path.append(\"../../..\") # Adds higher directory to python modules path.\n",
        "from maxio.tools.rM2svg import rm2svg\n",
        "from PyPDF2 import PdfFileReader"
      ],
      "outputs": [],
      "execution_count": 1,
      "metadata": {
        "collapsed": false,
        "outputHidden": false,
        "inputHidden": false,
        "execution": {
          "iopub.status.busy": "2020-04-08T13:29:03.187Z",
          "iopub.execute_input": "2020-04-08T13:29:03.194Z",
          "iopub.status.idle": "2020-04-08T13:29:03.200Z",
          "shell.execute_reply": "2020-04-08T13:29:03.206Z"
        }
      }
    },
    {
      "cell_type": "markdown",
      "source": [
        "## Set this up to work with the test example"
      ],
      "metadata": {}
    },
    {
      "cell_type": "markdown",
      "source": [
        "There is one .rm file for every page. Each has its own hash. To find out the order we look into the content file. "
      ],
      "metadata": {
        "nteract": {
          "transient": {
            "deleting": false
          }
        }
      }
    },
    {
      "cell_type": "code",
      "source": [
        "refNrPath = \"paper\"\n",
        "origPDF = \"paper.pdf\"\n",
        "meta = json.loads(open(refNrPath + \".metadata\").read())\n",
        "content = json.loads(open(refNrPath + \".content\").read())\n",
        "fname = meta[\"visibleName\"]\n",
        "input1 = PdfFileReader(open(origPDF, \"rb\"))\n",
        "npages = input1.getNumPages()\n",
        "pdfsize = input1.getPage(0).mediaBox\n",
        "pdfx = int(pdfsize[2])\n",
        "pdfy = int(pdfsize[3])"
      ],
      "outputs": [],
      "execution_count": 2,
      "metadata": {
        "collapsed": false,
        "outputHidden": false,
        "inputHidden": false,
        "execution": {
          "iopub.status.busy": "2020-04-08T13:29:24.124Z",
          "iopub.execute_input": "2020-04-08T13:29:24.129Z",
          "iopub.status.idle": "2020-04-08T13:29:24.136Z",
          "shell.execute_reply": "2020-04-08T13:29:24.145Z"
        }
      }
    },
    {
      "cell_type": "markdown",
      "source": [
        "In old versions empty pages don't generate \\*.rm files. So we just use a placeholder empty file to simulate it."
      ],
      "metadata": {}
    },
    {
      "cell_type": "code",
      "source": [
        "#os.mkdir(\"tempDir\")\n",
        "emptyRm = \"empty.rm\"\n",
        "rm2svg(emptyRm, \"tempDir/emptyrm.svg\", coloured_annotations=False, x_width=pdfx, y_width=pdfy)"
      ],
      "outputs": [],
      "execution_count": 4,
      "metadata": {
        "collapsed": false,
        "outputHidden": false,
        "inputHidden": false,
        "execution": {
          "iopub.status.busy": "2020-04-08T13:30:28.429Z",
          "iopub.execute_input": "2020-04-08T13:30:28.436Z",
          "iopub.status.idle": "2020-04-08T13:30:28.443Z",
          "shell.execute_reply": "2020-04-08T13:30:28.446Z"
        }
      }
    },
    {
      "cell_type": "markdown",
      "source": [
        "## 1.+2. Loop through the number of pages, creating an annotation pdf for each."
      ],
      "metadata": {}
    },
    {
      "cell_type": "code",
      "source": [
        "pdflist = []\n",
        "for pg, pg_hash in enumerate(content['pages']):\n",
        "    # print(pg)\n",
        "    rmpath = refNrPath + \"/\" + pg_hash + \".rm\"\n",
        "    if os.path.isfile(rmpath):\n",
        "        rm2svg(rmpath, \"tempDir/temprm\" + str(pg) + \".svg\", coloured_annotations=False, x_width=pdfx, y_width=pdfy)\n",
        "        svg_path = \"tempDir/temprm\" + str(pg) + \".svg\"\n",
        "    else:\n",
        "        svg_path = \"tempDir/emptyrm.svg\"\n",
        "    convertSvg2PdfCmd = \"\".join([\"rsvg-convert -f pdf -o \", \"tempDir/temppdf\" + str(pg), \".pdf \", svg_path])\n",
        "    os.system(convertSvg2PdfCmd)\n",
        "    pdflist.append(\"tempDir/temppdf\"+str(pg)+\".pdf\")"
      ],
      "outputs": [],
      "execution_count": 5,
      "metadata": {
        "collapsed": false,
        "outputHidden": false,
        "inputHidden": false,
        "execution": {
          "iopub.status.busy": "2020-04-08T13:33:11.887Z",
          "iopub.execute_input": "2020-04-08T13:33:11.890Z",
          "iopub.status.idle": "2020-04-08T13:33:12.077Z",
          "shell.execute_reply": "2020-04-08T13:33:12.082Z"
        }
      }
    },
    {
      "cell_type": "markdown",
      "source": [
        "## 3. merge all pdf pages into one"
      ],
      "metadata": {}
    },
    {
      "cell_type": "code",
      "source": [
        "merged_rm = \"tempDir/merged_rm.pdf\"\n",
        "os.system(\"convert \"+ (\" \").join(pdflist)+\" \"+merged_rm)"
      ],
      "outputs": [
        {
          "output_type": "execute_result",
          "execution_count": 6,
          "data": {
            "text/plain": [
              "0"
            ]
          },
          "metadata": {}
        }
      ],
      "execution_count": 6,
      "metadata": {
        "collapsed": false,
        "outputHidden": false,
        "inputHidden": false,
        "execution": {
          "iopub.status.busy": "2020-04-08T13:33:17.437Z",
          "iopub.execute_input": "2020-04-08T13:33:17.441Z",
          "iopub.status.idle": "2020-04-08T13:33:18.216Z",
          "shell.execute_reply": "2020-04-08T13:33:18.222Z"
        }
      }
    },
    {
      "cell_type": "markdown",
      "source": [
        "## 4. overlay on top of the existing page"
      ],
      "metadata": {}
    },
    {
      "cell_type": "code",
      "source": [
        "stampCmd = \"\".join([\"pdftk \", origPDF, \" multistamp \", merged_rm, \" output \", origPDF[:-4], \"_annot.pdf\"])\n",
        "os.system(stampCmd)"
      ],
      "outputs": [
        {
          "output_type": "execute_result",
          "execution_count": 7,
          "data": {
            "text/plain": [
              "0"
            ]
          },
          "metadata": {}
        }
      ],
      "execution_count": 7,
      "metadata": {
        "collapsed": false,
        "outputHidden": false,
        "inputHidden": false,
        "execution": {
          "iopub.status.busy": "2020-04-08T13:33:21.799Z",
          "iopub.execute_input": "2020-04-08T13:33:21.802Z",
          "iopub.status.idle": "2020-04-08T13:33:22.005Z",
          "shell.execute_reply": "2020-04-08T13:33:22.012Z"
        }
      }
    },
    {
      "cell_type": "code",
      "source": [],
      "outputs": [],
      "execution_count": 7,
      "metadata": {
        "collapsed": false,
        "outputHidden": false,
        "inputHidden": false
      }
    }
  ],
  "metadata": {
    "kernel_info": {
      "name": "python3"
    },
    "language_info": {
      "name": "python",
      "version": "3.6.3",
      "mimetype": "text/x-python",
      "codemirror_mode": {
        "name": "ipython",
        "version": 3
      },
      "pygments_lexer": "ipython3",
      "nbconvert_exporter": "python",
      "file_extension": ".py"
    },
    "kernelspec": {
      "name": "python3",
      "language": "python",
      "display_name": "Python 3"
    },
    "nteract": {
      "version": "0.22.4"
    }
  },
  "nbformat": 4,
  "nbformat_minor": 4
}